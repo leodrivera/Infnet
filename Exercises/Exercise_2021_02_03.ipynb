{
  "nbformat": 4,
  "nbformat_minor": 0,
  "metadata": {
    "colab": {
      "name": "Exercício_2021.02.03",
      "provenance": [],
      "collapsed_sections": [],
      "authorship_tag": "ABX9TyMy+VytaTx8DYiuAkWOgmPi",
      "include_colab_link": true
    },
    "kernelspec": {
      "name": "python3",
      "display_name": "Python 3"
    }
  },
  "cells": [
    {
      "cell_type": "markdown",
      "metadata": {
        "id": "view-in-github",
        "colab_type": "text"
      },
      "source": [
        "<a href=\"https://colab.research.google.com/github/leodrivera/Infnet/blob/main/Exerc%C3%ADcio_2021_02_03.ipynb\" target=\"_parent\"><img src=\"https://colab.research.google.com/assets/colab-badge.svg\" alt=\"Open In Colab\"/></a>"
      ]
    },
    {
      "cell_type": "markdown",
      "metadata": {
        "id": "IbTfFlBa4PmE"
      },
      "source": [
        "##Baseado na API de dados abertos do Congresso criar um dicionário onde a chave é a UF e o valor é o número de deputados reeleitos entre a legislatura atual e a anterior"
      ]
    },
    {
      "cell_type": "code",
      "metadata": {
        "id": "cE3IVciYRgCf"
      },
      "source": [
        "#deputados_reeleitos[UF]['Número de Deputados Reeleitos']\n",
        "\n",
        "import requests\n",
        "\n",
        "URL_LEGISLATURA_ANTERIOR = \"https://dadosabertos.camara.leg.br/api/v2/deputados?idLegislatura=55&ordem=ASC&ordenarPor=nome\"\n",
        "data_legislatura_anterior = requests.get(URL_LEGISLATURA_ANTERIOR).json()\n",
        "\n",
        "URL_LEGISLATURA_ATUAL = \"https://dadosabertos.camara.leg.br/api/v2/deputados?ordem=ASC&ordenarPor=nome\"\n",
        "data_legislatura_atual = requests.get(URL_LEGISLATURA_ATUAL).json()\n",
        "\n",
        "deputados_atual = []\n",
        "deputados_anterior = []\n",
        "estados = []\n",
        "\n",
        "# Criar lista com o nome dos deputados atuais e estados\n",
        "for deputado in data_legislatura_atual['dados']:\n",
        "  deputados_atual.append((deputado['nome'].title(),deputado['siglaUf']))\n",
        "  estados.append(deputado['siglaUf'])\n",
        "  \n",
        "# Criar lista com o nome dos deputados anteriores\n",
        "for deputado in data_legislatura_anterior['dados']:\n",
        "  deputados_anterior.append(deputado['nome'].title())\n",
        "\n",
        "#Remover duplicatas ao colocar em um dicionario. Jogar para lista na sequência\n",
        "estados = list(dict.fromkeys(estados))\n",
        "\n",
        "reeleitos = []\n",
        "deputados_reeleitos = {}\n",
        "for estado in estados:\n",
        "  for deputado in deputados_atual:\n",
        "    if deputado[1] == estado:\n",
        "      if deputado[0] in deputados_anterior:\n",
        "        reeleitos.append(deputado[0])\n",
        "  deputados_reeleitos.update({estado:len(reeleitos)})\n",
        "  reeleitos = [] #limpo a lista"
      ],
      "execution_count": null,
      "outputs": []
    },
    {
      "cell_type": "code",
      "metadata": {
        "id": "fDrm-4EdRQGe",
        "colab": {
          "base_uri": "https://localhost:8080/"
        },
        "outputId": "2767b8d7-6449-4005-bf6d-e126219ec4f7"
      },
      "source": [
        "##Consultando a lista\n",
        "print (deputados_reeleitos)"
      ],
      "execution_count": null,
      "outputs": [
        {
          "output_type": "stream",
          "text": [
            "{'BA': 23, 'SP': 38, 'AP': 3, 'GO': 7, 'MG': 28, 'RS': 18, 'PB': 6, 'PA': 7, 'CE': 9, 'AC': 4, 'RJ': 15, 'PR': 14, 'MA': 7, 'ES': 3, 'PE': 15, 'SC': 5, 'AL': 5, 'AM': 2, 'PI': 6, 'RN': 3, 'MS': 3, 'DF': 1, 'SE': 5, 'MT': 1, 'TO': 4, 'RO': 3, 'RR': 4}\n"
          ],
          "name": "stdout"
        }
      ]
    },
    {
      "cell_type": "markdown",
      "metadata": {
        "id": "Z_2xZFKPcr3F"
      },
      "source": [
        "##Resolução 1"
      ]
    },
    {
      "cell_type": "code",
      "metadata": {
        "colab": {
          "base_uri": "https://localhost:8080/"
        },
        "id": "4rreUC2WwZhI",
        "outputId": "5059c1b1-974f-4f5f-ae54-48eae594d6fa"
      },
      "source": [
        "import requests\n",
        "\n",
        "URL_LEGISLATURA_ANTERIOR = \"https://dadosabertos.camara.leg.br/api/v2/deputados?idLegislatura=55&ordem=ASC&ordenarPor=nome\"\n",
        "deputados_legislatura_anterior = requests.get(URL_LEGISLATURA_ANTERIOR).json()\n",
        "deputados_legislatura_anterior = data_legislatura_anterior['dados']\n",
        "\n",
        "URL_LEGISLATURA_ATUAL = \"https://dadosabertos.camara.leg.br/api/v2/deputados?ordem=ASC&ordenarPor=nome\"\n",
        "data_legislatura_atual = requests.get(URL_LEGISLATURA_ATUAL).json()\n",
        "deputados_legislatura_atual = data_legislatura_atual['dados']\n",
        "\n",
        "dict_reeleitos = {}\n",
        "\n",
        "# Criar lista com o nome dos deputados atuais e estados\n",
        "for deputado in deputados_legislatura_atual:\n",
        "  for deputado_antigo in deputados_legislatura_anterior:\n",
        "    if deputado['nome'].upper() == deputado_antigo['nome'].upper():\n",
        "      if (deputado['siglaUf'] not in dict_reeleitos):\n",
        "        dict_reeleitos[deputado['siglaUf']]=1\n",
        "      else:\n",
        "        dict_reeleitos[deputado['siglaUf']]+=1\n",
        "print(dict_reeleitos)"
      ],
      "execution_count": null,
      "outputs": [
        {
          "output_type": "stream",
          "text": [
            "{'MG': 28, 'BA': 23, 'RS': 18, 'PB': 6, 'AC': 4, 'RJ': 15, 'SP': 38, 'PR': 14, 'MA': 7, 'AP': 3, 'PE': 15, 'CE': 9, 'AL': 5, 'AM': 2, 'PI': 6, 'PA': 7, 'RN': 3, 'SE': 5, 'MT': 1, 'TO': 4, 'SC': 5, 'GO': 7, 'MS': 3, 'RR': 4, 'DF': 1, 'ES': 3, 'RO': 3}\n"
          ],
          "name": "stdout"
        }
      ]
    },
    {
      "cell_type": "markdown",
      "metadata": {
        "id": "-OF7Uvxhcvol"
      },
      "source": [
        "##Resolução 2"
      ]
    },
    {
      "cell_type": "code",
      "metadata": {
        "colab": {
          "base_uri": "https://localhost:8080/"
        },
        "id": "ewz-qQShzhzy",
        "outputId": "e75aa085-b9db-4e5b-eeeb-ac27a201e170"
      },
      "source": [
        "import requests\n",
        "\n",
        "URL_LEGISLATURA_ANTERIOR = \"https://dadosabertos.camara.leg.br/api/v2/deputados?idLegislatura=55&ordem=ASC&ordenarPor=nome\"\n",
        "deputados_legislatura_anterior = requests.get(URL_LEGISLATURA_ANTERIOR).json()\n",
        "deputados_legislatura_anterior = data_legislatura_anterior['dados']\n",
        "\n",
        "URL_LEGISLATURA_ATUAL = \"https://dadosabertos.camara.leg.br/api/v2/deputados?ordem=ASC&ordenarPor=nome\"\n",
        "data_legislatura_atual = requests.get(URL_LEGISLATURA_ATUAL).json()\n",
        "deputados_legislatura_atual = data_legislatura_atual['dados']\n",
        "\n",
        "deputados_atual = []\n",
        "deputados_antigo = []\n",
        "\n",
        "for deputado in deputados_legislatura_atual:\n",
        "  deputados_atual.append((deputado['nome'].upper(), deputado['siglaUf']))\n",
        "\n",
        "for deputado in deputados_legislatura_anterior:\n",
        "  deputados_antigo.append(deputado['nome'].upper())\n",
        "\n",
        "dict_reeleitos = {}\n",
        "\n",
        "for deputado in deputados_atual:\n",
        "  if deputado[0] in deputados_antigo:\n",
        "    if (deputado[1] not in dict_reeleitos):\n",
        "      dict_reeleitos[deputado[1]]=1\n",
        "    else:\n",
        "      dict_reeleitos[deputado[1]]+=1\n",
        "print(dict_reeleitos)"
      ],
      "execution_count": null,
      "outputs": [
        {
          "output_type": "stream",
          "text": [
            "{'MG': 28, 'BA': 23, 'RS': 18, 'PB': 6, 'AC': 4, 'RJ': 15, 'SP': 38, 'PR': 14, 'MA': 7, 'AP': 3, 'PE': 15, 'CE': 9, 'AL': 5, 'AM': 2, 'PI': 6, 'PA': 7, 'RN': 3, 'SE': 5, 'MT': 1, 'TO': 4, 'SC': 5, 'GO': 7, 'MS': 3, 'RR': 4, 'DF': 1, 'ES': 3, 'RO': 3}\n"
          ],
          "name": "stdout"
        }
      ]
    }
  ]
}