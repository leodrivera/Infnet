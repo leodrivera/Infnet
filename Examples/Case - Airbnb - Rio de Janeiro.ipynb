{
 "cells": [
  {
   "cell_type": "markdown",
   "id": "continued-means",
   "metadata": {
    "id": "XhfAkWxc26qd"
   },
   "source": [
    "A intenção desse notebook é fazer uma análise exploratória dos dados fornecidos pelo Airbnb e tentar prever os valores de aluguéis das acomodações.\n",
    "\n",
    "Iremos fazer essa análise para a cidade do Rio de Janeiro e os dados podem ser obtidos nesse [site](http://insideairbnb.com/get-the-data.html).\n",
    "\n",
    "O arquivo a ser utilizado é o `listings.csv` da cidade escolhida.\n"
   ]
  },
  {
   "cell_type": "markdown",
   "id": "noted-action",
   "metadata": {
    "id": "vGciiBtV4jt0"
   },
   "source": [
    "- # Data Collect"
   ]
  },
  {
   "cell_type": "code",
   "execution_count": 13,
   "id": "ideal-focus",
   "metadata": {
    "id": "pbEdsDnV2XQx"
   },
   "outputs": [],
   "source": [
    "# importar os pacotes necessarios\n",
    "import pandas as pd"
   ]
  },
  {
   "cell_type": "code",
   "execution_count": 26,
   "id": "quantitative-angola",
   "metadata": {
    "id": "dlr6dyOz4na3"
   },
   "outputs": [],
   "source": [
    "# lendo o dataframe\n",
    "df = pd.read_csv('http://data.insideairbnb.com/brazil/rj/rio-de-janeiro/2021-02-22/visualisations/listings.csv')"
   ]
  },
  {
   "cell_type": "code",
   "execution_count": 15,
   "id": "circular-rainbow",
   "metadata": {
    "colab": {
     "base_uri": "https://localhost:8080/"
    },
    "id": "8e1kmYKS6eXl",
    "outputId": "8504e54e-a465-4d20-c397-d731baeb3399"
   },
   "outputs": [
    {
     "data": {
      "text/plain": [
       "Index(['id', 'name', 'host_id', 'host_name', 'neighbourhood_group',\n",
       "       'neighbourhood', 'latitude', 'longitude', 'room_type', 'price',\n",
       "       'minimum_nights', 'number_of_reviews', 'last_review',\n",
       "       'reviews_per_month', 'calculated_host_listings_count',\n",
       "       'availability_365'],\n",
       "      dtype='object')"
      ]
     },
     "execution_count": 15,
     "metadata": {},
     "output_type": "execute_result"
    }
   ],
   "source": [
    "df.columns"
   ]
  },
  {
   "cell_type": "code",
   "execution_count": 16,
   "id": "southern-sampling",
   "metadata": {
    "colab": {
     "base_uri": "https://localhost:8080/",
     "height": 484
    },
    "id": "7dedou3q41BT",
    "outputId": "7f071f83-b714-4c99-a46d-437d71096433"
   },
   "outputs": [
    {
     "data": {
      "text/html": [
       "<div>\n",
       "<style scoped>\n",
       "    .dataframe tbody tr th:only-of-type {\n",
       "        vertical-align: middle;\n",
       "    }\n",
       "\n",
       "    .dataframe tbody tr th {\n",
       "        vertical-align: top;\n",
       "    }\n",
       "\n",
       "    .dataframe thead th {\n",
       "        text-align: right;\n",
       "    }\n",
       "</style>\n",
       "<table border=\"1\" class=\"dataframe\">\n",
       "  <thead>\n",
       "    <tr style=\"text-align: right;\">\n",
       "      <th></th>\n",
       "      <th>id</th>\n",
       "      <th>name</th>\n",
       "      <th>host_id</th>\n",
       "      <th>host_name</th>\n",
       "      <th>neighbourhood_group</th>\n",
       "      <th>neighbourhood</th>\n",
       "      <th>latitude</th>\n",
       "      <th>longitude</th>\n",
       "      <th>room_type</th>\n",
       "      <th>price</th>\n",
       "      <th>minimum_nights</th>\n",
       "      <th>number_of_reviews</th>\n",
       "      <th>last_review</th>\n",
       "      <th>reviews_per_month</th>\n",
       "      <th>calculated_host_listings_count</th>\n",
       "      <th>availability_365</th>\n",
       "    </tr>\n",
       "  </thead>\n",
       "  <tbody>\n",
       "    <tr>\n",
       "      <th>0</th>\n",
       "      <td>17878</td>\n",
       "      <td>Very Nice 2Br in Copacabana w. balcony, fast WiFi</td>\n",
       "      <td>68997</td>\n",
       "      <td>Matthias</td>\n",
       "      <td>NaN</td>\n",
       "      <td>Copacabana</td>\n",
       "      <td>-22.96592</td>\n",
       "      <td>-43.17896</td>\n",
       "      <td>Entire home/apt</td>\n",
       "      <td>221</td>\n",
       "      <td>5</td>\n",
       "      <td>260</td>\n",
       "      <td>2021-02-08</td>\n",
       "      <td>2.01</td>\n",
       "      <td>1</td>\n",
       "      <td>304</td>\n",
       "    </tr>\n",
       "    <tr>\n",
       "      <th>1</th>\n",
       "      <td>24480</td>\n",
       "      <td>Nice and cozy near Ipanema Beach</td>\n",
       "      <td>99249</td>\n",
       "      <td>Goya</td>\n",
       "      <td>NaN</td>\n",
       "      <td>Ipanema</td>\n",
       "      <td>-22.98570</td>\n",
       "      <td>-43.20193</td>\n",
       "      <td>Entire home/apt</td>\n",
       "      <td>307</td>\n",
       "      <td>3</td>\n",
       "      <td>85</td>\n",
       "      <td>2018-02-14</td>\n",
       "      <td>0.67</td>\n",
       "      <td>1</td>\n",
       "      <td>10</td>\n",
       "    </tr>\n",
       "    <tr>\n",
       "      <th>2</th>\n",
       "      <td>25026</td>\n",
       "      <td>Beautiful Modern Decorated Studio in Copa</td>\n",
       "      <td>3746246</td>\n",
       "      <td>Ghizlane</td>\n",
       "      <td>NaN</td>\n",
       "      <td>Copacabana</td>\n",
       "      <td>-22.97712</td>\n",
       "      <td>-43.19045</td>\n",
       "      <td>Entire home/apt</td>\n",
       "      <td>160</td>\n",
       "      <td>7</td>\n",
       "      <td>238</td>\n",
       "      <td>2020-02-15</td>\n",
       "      <td>1.82</td>\n",
       "      <td>11</td>\n",
       "      <td>328</td>\n",
       "    </tr>\n",
       "    <tr>\n",
       "      <th>3</th>\n",
       "      <td>35636</td>\n",
       "      <td>Cosy flat close to Ipanema beach</td>\n",
       "      <td>153232</td>\n",
       "      <td>Patricia</td>\n",
       "      <td>NaN</td>\n",
       "      <td>Ipanema</td>\n",
       "      <td>-22.98816</td>\n",
       "      <td>-43.19359</td>\n",
       "      <td>Entire home/apt</td>\n",
       "      <td>273</td>\n",
       "      <td>2</td>\n",
       "      <td>181</td>\n",
       "      <td>2020-03-15</td>\n",
       "      <td>2.02</td>\n",
       "      <td>1</td>\n",
       "      <td>207</td>\n",
       "    </tr>\n",
       "    <tr>\n",
       "      <th>4</th>\n",
       "      <td>35764</td>\n",
       "      <td>COPACABANA SEA BREEZE  -  RIO - 20 X Superhost</td>\n",
       "      <td>153691</td>\n",
       "      <td>Patricia Miranda &amp; Paulo</td>\n",
       "      <td>NaN</td>\n",
       "      <td>Copacabana</td>\n",
       "      <td>-22.98127</td>\n",
       "      <td>-43.19046</td>\n",
       "      <td>Entire home/apt</td>\n",
       "      <td>135</td>\n",
       "      <td>3</td>\n",
       "      <td>353</td>\n",
       "      <td>2021-02-10</td>\n",
       "      <td>2.79</td>\n",
       "      <td>1</td>\n",
       "      <td>101</td>\n",
       "    </tr>\n",
       "  </tbody>\n",
       "</table>\n",
       "</div>"
      ],
      "text/plain": [
       "      id                                               name  host_id  \\\n",
       "0  17878  Very Nice 2Br in Copacabana w. balcony, fast WiFi    68997   \n",
       "1  24480                   Nice and cozy near Ipanema Beach    99249   \n",
       "2  25026          Beautiful Modern Decorated Studio in Copa  3746246   \n",
       "3  35636                   Cosy flat close to Ipanema beach   153232   \n",
       "4  35764     COPACABANA SEA BREEZE  -  RIO - 20 X Superhost   153691   \n",
       "\n",
       "                  host_name  neighbourhood_group neighbourhood  latitude  \\\n",
       "0                  Matthias                  NaN    Copacabana -22.96592   \n",
       "1                      Goya                  NaN       Ipanema -22.98570   \n",
       "2                  Ghizlane                  NaN    Copacabana -22.97712   \n",
       "3                  Patricia                  NaN       Ipanema -22.98816   \n",
       "4  Patricia Miranda & Paulo                  NaN    Copacabana -22.98127   \n",
       "\n",
       "   longitude        room_type  price  minimum_nights  number_of_reviews  \\\n",
       "0  -43.17896  Entire home/apt    221               5                260   \n",
       "1  -43.20193  Entire home/apt    307               3                 85   \n",
       "2  -43.19045  Entire home/apt    160               7                238   \n",
       "3  -43.19359  Entire home/apt    273               2                181   \n",
       "4  -43.19046  Entire home/apt    135               3                353   \n",
       "\n",
       "  last_review  reviews_per_month  calculated_host_listings_count  \\\n",
       "0  2021-02-08               2.01                               1   \n",
       "1  2018-02-14               0.67                               1   \n",
       "2  2020-02-15               1.82                              11   \n",
       "3  2020-03-15               2.02                               1   \n",
       "4  2021-02-10               2.79                               1   \n",
       "\n",
       "   availability_365  \n",
       "0               304  \n",
       "1                10  \n",
       "2               328  \n",
       "3               207  \n",
       "4               101  "
      ]
     },
     "execution_count": 16,
     "metadata": {},
     "output_type": "execute_result"
    }
   ],
   "source": [
    "# Listando os primeiros cinco registros.\n",
    "df.head()"
   ]
  },
  {
   "cell_type": "markdown",
   "id": "binary-survivor",
   "metadata": {
    "id": "kWn8Ga986gzL"
   },
   "source": [
    "## Dicionário de dados.\n",
    "\n",
    "* `id` - Chave aleatória gerada como identificador do imóvel.\n",
    "* `name` - Nome do imóvel cadastrado na plataforma.\n",
    "* `host_id` - Código de identificação do anfitrião do imóvel.\n",
    "* `host_name` - Nome do anfitrião.\n",
    "* `neighbourhood_group` - Regiões dos bairros.\n",
    "* `neighbourhood` - Nome do Bairro.\n",
    "* `latitude` - Latitude do imóvel.\n",
    "* `longitude` - Longitude do imóvel.\n",
    "* `room_type` - Tipo de quarto oferecido (Private room | Entire home/apt | Hotel room | Shared Room)\n",
    "* `price` - Preço da diária do imóvel\n",
    "* `minimum_nights` - Mínimo de diárias para conseguir reservar.\n",
    "* `number_of_reviews` - Número total de avaliações que o imóvel possui.\n",
    "* `last_review` - Data da última availiação.\n",
    "* `reviews_per_month` - Quantidade de avaliações mensais\n",
    "* `calculated_host_listings_count` - Quantidade de imóveis que um mesmo anfitrião possui na plataforma.\n",
    "* `availability_365` - Número de dias de disponibilidade dentro de 365 dias\n"
   ]
  },
  {
   "cell_type": "code",
   "execution_count": 17,
   "id": "intimate-teach",
   "metadata": {
    "colab": {
     "base_uri": "https://localhost:8080/",
     "height": 450
    },
    "id": "utbb49Gi41-e",
    "outputId": "728ddd00-df6b-4758-f7f5-f572b57c9e87"
   },
   "outputs": [
    {
     "data": {
      "text/html": [
       "<div>\n",
       "<style scoped>\n",
       "    .dataframe tbody tr th:only-of-type {\n",
       "        vertical-align: middle;\n",
       "    }\n",
       "\n",
       "    .dataframe tbody tr th {\n",
       "        vertical-align: top;\n",
       "    }\n",
       "\n",
       "    .dataframe thead th {\n",
       "        text-align: right;\n",
       "    }\n",
       "</style>\n",
       "<table border=\"1\" class=\"dataframe\">\n",
       "  <thead>\n",
       "    <tr style=\"text-align: right;\">\n",
       "      <th></th>\n",
       "      <th>id</th>\n",
       "      <th>name</th>\n",
       "      <th>host_id</th>\n",
       "      <th>host_name</th>\n",
       "      <th>neighbourhood_group</th>\n",
       "      <th>neighbourhood</th>\n",
       "      <th>latitude</th>\n",
       "      <th>longitude</th>\n",
       "      <th>room_type</th>\n",
       "      <th>price</th>\n",
       "      <th>minimum_nights</th>\n",
       "      <th>number_of_reviews</th>\n",
       "      <th>last_review</th>\n",
       "      <th>reviews_per_month</th>\n",
       "      <th>calculated_host_listings_count</th>\n",
       "      <th>availability_365</th>\n",
       "    </tr>\n",
       "  </thead>\n",
       "  <tbody>\n",
       "    <tr>\n",
       "      <th>26610</th>\n",
       "      <td>48269503</td>\n",
       "      <td>Quarto inteiro no Recreio dos Bandeirantes.</td>\n",
       "      <td>389246322</td>\n",
       "      <td>Vivian</td>\n",
       "      <td>NaN</td>\n",
       "      <td>Recreio dos Bandeirantes</td>\n",
       "      <td>-23.01452</td>\n",
       "      <td>-43.46005</td>\n",
       "      <td>Private room</td>\n",
       "      <td>94</td>\n",
       "      <td>1</td>\n",
       "      <td>0</td>\n",
       "      <td>NaN</td>\n",
       "      <td>NaN</td>\n",
       "      <td>4</td>\n",
       "      <td>180</td>\n",
       "    </tr>\n",
       "    <tr>\n",
       "      <th>26611</th>\n",
       "      <td>48269534</td>\n",
       "      <td>Casa grande mobiliada, 2 quartos em Jacarepaguá.</td>\n",
       "      <td>122122028</td>\n",
       "      <td>Victor</td>\n",
       "      <td>NaN</td>\n",
       "      <td>Cidade de Deus</td>\n",
       "      <td>-22.95078</td>\n",
       "      <td>-43.35997</td>\n",
       "      <td>Entire home/apt</td>\n",
       "      <td>141</td>\n",
       "      <td>1</td>\n",
       "      <td>0</td>\n",
       "      <td>NaN</td>\n",
       "      <td>NaN</td>\n",
       "      <td>1</td>\n",
       "      <td>365</td>\n",
       "    </tr>\n",
       "    <tr>\n",
       "      <th>26612</th>\n",
       "      <td>48270411</td>\n",
       "      <td>BR-RJ020 Casa Niemeyer vista deslumbrante</td>\n",
       "      <td>13773093</td>\n",
       "      <td>Raphael</td>\n",
       "      <td>NaN</td>\n",
       "      <td>São Conrado</td>\n",
       "      <td>-22.99825</td>\n",
       "      <td>-43.25133</td>\n",
       "      <td>Entire home/apt</td>\n",
       "      <td>2500</td>\n",
       "      <td>3</td>\n",
       "      <td>0</td>\n",
       "      <td>NaN</td>\n",
       "      <td>NaN</td>\n",
       "      <td>1</td>\n",
       "      <td>360</td>\n",
       "    </tr>\n",
       "    <tr>\n",
       "      <th>26613</th>\n",
       "      <td>48270514</td>\n",
       "      <td>Casa Tijuca - Curtir e  aproveitar o Rio</td>\n",
       "      <td>23737846</td>\n",
       "      <td>Lucas</td>\n",
       "      <td>NaN</td>\n",
       "      <td>Tijuca</td>\n",
       "      <td>-22.92816</td>\n",
       "      <td>-43.24319</td>\n",
       "      <td>Entire home/apt</td>\n",
       "      <td>160</td>\n",
       "      <td>5</td>\n",
       "      <td>0</td>\n",
       "      <td>NaN</td>\n",
       "      <td>NaN</td>\n",
       "      <td>3</td>\n",
       "      <td>269</td>\n",
       "    </tr>\n",
       "    <tr>\n",
       "      <th>26614</th>\n",
       "      <td>48276004</td>\n",
       "      <td>Rio Spot Homes D040</td>\n",
       "      <td>13580277</td>\n",
       "      <td>Marcio</td>\n",
       "      <td>NaN</td>\n",
       "      <td>Copacabana</td>\n",
       "      <td>-22.96482</td>\n",
       "      <td>-43.17428</td>\n",
       "      <td>Entire home/apt</td>\n",
       "      <td>316</td>\n",
       "      <td>1</td>\n",
       "      <td>0</td>\n",
       "      <td>NaN</td>\n",
       "      <td>NaN</td>\n",
       "      <td>59</td>\n",
       "      <td>159</td>\n",
       "    </tr>\n",
       "  </tbody>\n",
       "</table>\n",
       "</div>"
      ],
      "text/plain": [
       "             id                                              name    host_id  \\\n",
       "26610  48269503       Quarto inteiro no Recreio dos Bandeirantes.  389246322   \n",
       "26611  48269534  Casa grande mobiliada, 2 quartos em Jacarepaguá.  122122028   \n",
       "26612  48270411         BR-RJ020 Casa Niemeyer vista deslumbrante   13773093   \n",
       "26613  48270514          Casa Tijuca - Curtir e  aproveitar o Rio   23737846   \n",
       "26614  48276004                               Rio Spot Homes D040   13580277   \n",
       "\n",
       "      host_name  neighbourhood_group             neighbourhood  latitude  \\\n",
       "26610    Vivian                  NaN  Recreio dos Bandeirantes -23.01452   \n",
       "26611    Victor                  NaN            Cidade de Deus -22.95078   \n",
       "26612   Raphael                  NaN               São Conrado -22.99825   \n",
       "26613     Lucas                  NaN                    Tijuca -22.92816   \n",
       "26614    Marcio                  NaN                Copacabana -22.96482   \n",
       "\n",
       "       longitude        room_type  price  minimum_nights  number_of_reviews  \\\n",
       "26610  -43.46005     Private room     94               1                  0   \n",
       "26611  -43.35997  Entire home/apt    141               1                  0   \n",
       "26612  -43.25133  Entire home/apt   2500               3                  0   \n",
       "26613  -43.24319  Entire home/apt    160               5                  0   \n",
       "26614  -43.17428  Entire home/apt    316               1                  0   \n",
       "\n",
       "      last_review  reviews_per_month  calculated_host_listings_count  \\\n",
       "26610         NaN                NaN                               4   \n",
       "26611         NaN                NaN                               1   \n",
       "26612         NaN                NaN                               1   \n",
       "26613         NaN                NaN                               3   \n",
       "26614         NaN                NaN                              59   \n",
       "\n",
       "       availability_365  \n",
       "26610               180  \n",
       "26611               365  \n",
       "26612               360  \n",
       "26613               269  \n",
       "26614               159  "
      ]
     },
     "execution_count": 17,
     "metadata": {},
     "output_type": "execute_result"
    }
   ],
   "source": [
    "# Listando os últimos cinco registros.\n",
    "df.tail()"
   ]
  },
  {
   "cell_type": "code",
   "execution_count": 18,
   "id": "double-croatia",
   "metadata": {
    "colab": {
     "base_uri": "https://localhost:8080/"
    },
    "id": "qJ1MaNY05NVm",
    "outputId": "cbe0e651-a139-492b-ec77-01236afae946"
   },
   "outputs": [
    {
     "name": "stdout",
     "output_type": "stream",
     "text": [
      "<class 'pandas.core.frame.DataFrame'>\n",
      "RangeIndex: 26615 entries, 0 to 26614\n",
      "Data columns (total 16 columns):\n",
      " #   Column                          Non-Null Count  Dtype  \n",
      "---  ------                          --------------  -----  \n",
      " 0   id                              26615 non-null  int64  \n",
      " 1   name                            26586 non-null  object \n",
      " 2   host_id                         26615 non-null  int64  \n",
      " 3   host_name                       26591 non-null  object \n",
      " 4   neighbourhood_group             0 non-null      float64\n",
      " 5   neighbourhood                   26615 non-null  object \n",
      " 6   latitude                        26615 non-null  float64\n",
      " 7   longitude                       26615 non-null  float64\n",
      " 8   room_type                       26615 non-null  object \n",
      " 9   price                           26615 non-null  int64  \n",
      " 10  minimum_nights                  26615 non-null  int64  \n",
      " 11  number_of_reviews               26615 non-null  int64  \n",
      " 12  last_review                     16657 non-null  object \n",
      " 13  reviews_per_month               16657 non-null  float64\n",
      " 14  calculated_host_listings_count  26615 non-null  int64  \n",
      " 15  availability_365                26615 non-null  int64  \n",
      "dtypes: float64(4), int64(7), object(5)\n",
      "memory usage: 3.2+ MB\n"
     ]
    }
   ],
   "source": [
    "# listando as informações da base.\n",
    "\n",
    "df.info()"
   ]
  },
  {
   "cell_type": "markdown",
   "id": "likely-forward",
   "metadata": {
    "id": "9J3ICJwE55Is"
   },
   "source": [
    "Como podemos observar, a coluna *neighbourhood_group* não possui nenhum registro.\n",
    "E algumas outras colunas, apresentam valores **NaN**."
   ]
  },
  {
   "cell_type": "code",
   "execution_count": 27,
   "id": "needed-hayes",
   "metadata": {
    "colab": {
     "base_uri": "https://localhost:8080/"
    },
    "id": "I2xJ_GCu5nfN",
    "outputId": "50bc0d66-b694-4c70-88df-2f171dd20890"
   },
   "outputs": [
    {
     "data": {
      "text/plain": [
       "neighbourhood_group               26615\n",
       "last_review                        9958\n",
       "reviews_per_month                  9958\n",
       "name                                 29\n",
       "host_name                            24\n",
       "id                                    0\n",
       "host_id                               0\n",
       "neighbourhood                         0\n",
       "latitude                              0\n",
       "longitude                             0\n",
       "room_type                             0\n",
       "price                                 0\n",
       "minimum_nights                        0\n",
       "number_of_reviews                     0\n",
       "calculated_host_listings_count        0\n",
       "availability_365                      0\n",
       "dtype: int64"
      ]
     },
     "execution_count": 27,
     "metadata": {},
     "output_type": "execute_result"
    }
   ],
   "source": [
    "# Contando os valores nulos da base\n",
    "df.isnull().sum().sort_values(ascending=False)"
   ]
  },
  {
   "cell_type": "code",
   "execution_count": 20,
   "id": "subsequent-principle",
   "metadata": {
    "id": "qBxBuWiZ7bXr"
   },
   "outputs": [],
   "source": [
    "# Dropando a coluna 'neighbourhood_group'\n",
    "df.drop(columns='neighbourhood_group', inplace = True)"
   ]
  },
  {
   "cell_type": "code",
   "execution_count": 9,
   "id": "aware-arbor",
   "metadata": {
    "colab": {
     "base_uri": "https://localhost:8080/"
    },
    "id": "lnTq6Sfa8r71",
    "outputId": "fc15b915-5968-4c64-a759-b64bfd379682"
   },
   "outputs": [
    {
     "data": {
      "text/plain": [
       "(26615, 15)"
      ]
     },
     "execution_count": 9,
     "metadata": {},
     "output_type": "execute_result"
    }
   ],
   "source": [
    "df.shape"
   ]
  },
  {
   "cell_type": "code",
   "execution_count": 10,
   "id": "sapphire-pontiac",
   "metadata": {
    "colab": {
     "base_uri": "https://localhost:8080/",
     "height": 299
    },
    "id": "pVyFic7A86-_",
    "outputId": "d3dc435b-c771-4533-d7b4-df6c4a91a31d",
    "scrolled": false
   },
   "outputs": [
    {
     "data": {
      "text/html": [
       "<div>\n",
       "<style scoped>\n",
       "    .dataframe tbody tr th:only-of-type {\n",
       "        vertical-align: middle;\n",
       "    }\n",
       "\n",
       "    .dataframe tbody tr th {\n",
       "        vertical-align: top;\n",
       "    }\n",
       "\n",
       "    .dataframe thead th {\n",
       "        text-align: right;\n",
       "    }\n",
       "</style>\n",
       "<table border=\"1\" class=\"dataframe\">\n",
       "  <thead>\n",
       "    <tr style=\"text-align: right;\">\n",
       "      <th></th>\n",
       "      <th>id</th>\n",
       "      <th>name</th>\n",
       "      <th>host_id</th>\n",
       "      <th>host_name</th>\n",
       "      <th>neighbourhood</th>\n",
       "      <th>latitude</th>\n",
       "      <th>longitude</th>\n",
       "      <th>room_type</th>\n",
       "      <th>price</th>\n",
       "      <th>minimum_nights</th>\n",
       "      <th>number_of_reviews</th>\n",
       "      <th>last_review</th>\n",
       "      <th>reviews_per_month</th>\n",
       "      <th>calculated_host_listings_count</th>\n",
       "      <th>availability_365</th>\n",
       "    </tr>\n",
       "  </thead>\n",
       "  <tbody>\n",
       "    <tr>\n",
       "      <th>1479</th>\n",
       "      <td>2221003</td>\n",
       "      <td>NaN</td>\n",
       "      <td>2232688</td>\n",
       "      <td>Tatiana</td>\n",
       "      <td>São Conrado</td>\n",
       "      <td>-22.99306</td>\n",
       "      <td>-43.25520</td>\n",
       "      <td>Entire home/apt</td>\n",
       "      <td>5455</td>\n",
       "      <td>1</td>\n",
       "      <td>0</td>\n",
       "      <td>NaN</td>\n",
       "      <td>NaN</td>\n",
       "      <td>1</td>\n",
       "      <td>365</td>\n",
       "    </tr>\n",
       "    <tr>\n",
       "      <th>2208</th>\n",
       "      <td>2692189</td>\n",
       "      <td>NaN</td>\n",
       "      <td>4426879</td>\n",
       "      <td>NaN</td>\n",
       "      <td>Maracanã</td>\n",
       "      <td>-22.91268</td>\n",
       "      <td>-43.21945</td>\n",
       "      <td>Entire home/apt</td>\n",
       "      <td>4091</td>\n",
       "      <td>1</td>\n",
       "      <td>0</td>\n",
       "      <td>NaN</td>\n",
       "      <td>NaN</td>\n",
       "      <td>2</td>\n",
       "      <td>365</td>\n",
       "    </tr>\n",
       "    <tr>\n",
       "      <th>2617</th>\n",
       "      <td>2930312</td>\n",
       "      <td>NaN</td>\n",
       "      <td>14963811</td>\n",
       "      <td>Marlon</td>\n",
       "      <td>Rio Comprido</td>\n",
       "      <td>-22.92466</td>\n",
       "      <td>-43.21115</td>\n",
       "      <td>Entire home/apt</td>\n",
       "      <td>1000</td>\n",
       "      <td>1</td>\n",
       "      <td>0</td>\n",
       "      <td>NaN</td>\n",
       "      <td>NaN</td>\n",
       "      <td>1</td>\n",
       "      <td>365</td>\n",
       "    </tr>\n",
       "    <tr>\n",
       "      <th>2804</th>\n",
       "      <td>3042602</td>\n",
       "      <td>NaN</td>\n",
       "      <td>15396642</td>\n",
       "      <td>Vera</td>\n",
       "      <td>Santa Teresa</td>\n",
       "      <td>-22.91503</td>\n",
       "      <td>-43.18333</td>\n",
       "      <td>Entire home/apt</td>\n",
       "      <td>2182</td>\n",
       "      <td>1</td>\n",
       "      <td>0</td>\n",
       "      <td>NaN</td>\n",
       "      <td>NaN</td>\n",
       "      <td>1</td>\n",
       "      <td>365</td>\n",
       "    </tr>\n",
       "    <tr>\n",
       "      <th>2806</th>\n",
       "      <td>3042838</td>\n",
       "      <td>NaN</td>\n",
       "      <td>15493868</td>\n",
       "      <td>Jorge</td>\n",
       "      <td>Centro</td>\n",
       "      <td>-22.91105</td>\n",
       "      <td>-43.19446</td>\n",
       "      <td>Entire home/apt</td>\n",
       "      <td>1200</td>\n",
       "      <td>1</td>\n",
       "      <td>0</td>\n",
       "      <td>NaN</td>\n",
       "      <td>NaN</td>\n",
       "      <td>1</td>\n",
       "      <td>365</td>\n",
       "    </tr>\n",
       "  </tbody>\n",
       "</table>\n",
       "</div>"
      ],
      "text/plain": [
       "           id name   host_id host_name neighbourhood  latitude  longitude  \\\n",
       "1479  2221003  NaN   2232688   Tatiana   São Conrado -22.99306  -43.25520   \n",
       "2208  2692189  NaN   4426879       NaN      Maracanã -22.91268  -43.21945   \n",
       "2617  2930312  NaN  14963811    Marlon  Rio Comprido -22.92466  -43.21115   \n",
       "2804  3042602  NaN  15396642      Vera  Santa Teresa -22.91503  -43.18333   \n",
       "2806  3042838  NaN  15493868     Jorge        Centro -22.91105  -43.19446   \n",
       "\n",
       "            room_type  price  minimum_nights  number_of_reviews last_review  \\\n",
       "1479  Entire home/apt   5455               1                  0         NaN   \n",
       "2208  Entire home/apt   4091               1                  0         NaN   \n",
       "2617  Entire home/apt   1000               1                  0         NaN   \n",
       "2804  Entire home/apt   2182               1                  0         NaN   \n",
       "2806  Entire home/apt   1200               1                  0         NaN   \n",
       "\n",
       "      reviews_per_month  calculated_host_listings_count  availability_365  \n",
       "1479                NaN                               1               365  \n",
       "2208                NaN                               2               365  \n",
       "2617                NaN                               1               365  \n",
       "2804                NaN                               1               365  \n",
       "2806                NaN                               1               365  "
      ]
     },
     "execution_count": 10,
     "metadata": {},
     "output_type": "execute_result"
    }
   ],
   "source": [
    "# Buscando os valores nulos do Name.\n",
    "\n",
    "df[df['name'].isnull()].head()"
   ]
  },
  {
   "cell_type": "code",
   "execution_count": 23,
   "id": "express-forwarding",
   "metadata": {
    "id": "iXQWdPVeAwkC"
   },
   "outputs": [],
   "source": [
    "# Preenchendo a coluna reviews_per_month por 0 nos casos em que é NaN\n",
    "df['reviews_per_month'].fillna(0, inplace = True)"
   ]
  },
  {
   "cell_type": "code",
   "execution_count": 24,
   "id": "atlantic-principal",
   "metadata": {},
   "outputs": [],
   "source": [
    "# Preenchendo a coluna reviews_per_month por 0 nos casos em que é NaN\n",
    "df['last_review'].fillna(0, inplace = True)"
   ]
  },
  {
   "cell_type": "code",
   "execution_count": null,
   "id": "relevant-coating",
   "metadata": {
    "id": "MhrssDAxELyE"
   },
   "outputs": [],
   "source": [
    "# Preenchendo as colunas name e host_name por Desconhecido\n",
    "df['name'].fillna('Desconhecido', inplace = True)\n",
    "df['host_name'].fillna('Desconhecido', inplace = True)"
   ]
  },
  {
   "cell_type": "code",
   "execution_count": null,
   "id": "younger-madness",
   "metadata": {
    "colab": {
     "base_uri": "https://localhost:8080/"
    },
    "id": "lnTq6Sfa8r71",
    "outputId": "1edd232a-7832-4d25-b960-bcdf84deed44"
   },
   "outputs": [
    {
     "data": {
      "text/plain": [
       "(26615, 14)"
      ]
     },
     "execution_count": 61,
     "metadata": {
      "tags": []
     },
     "output_type": "execute_result"
    }
   ],
   "source": [
    "df.shape"
   ]
  },
  {
   "cell_type": "code",
   "execution_count": null,
   "id": "resident-foundation",
   "metadata": {
    "colab": {
     "base_uri": "https://localhost:8080/",
     "height": 484
    },
    "id": "EpKmZewuDgO1",
    "outputId": "71e6937d-c038-41f4-b7d7-a23b56e10bc2"
   },
   "outputs": [
    {
     "data": {
      "text/html": [
       "<div>\n",
       "<style scoped>\n",
       "    .dataframe tbody tr th:only-of-type {\n",
       "        vertical-align: middle;\n",
       "    }\n",
       "\n",
       "    .dataframe tbody tr th {\n",
       "        vertical-align: top;\n",
       "    }\n",
       "\n",
       "    .dataframe thead th {\n",
       "        text-align: right;\n",
       "    }\n",
       "</style>\n",
       "<table border=\"1\" class=\"dataframe\">\n",
       "  <thead>\n",
       "    <tr style=\"text-align: right;\">\n",
       "      <th></th>\n",
       "      <th>id</th>\n",
       "      <th>name</th>\n",
       "      <th>host_id</th>\n",
       "      <th>host_name</th>\n",
       "      <th>neighbourhood</th>\n",
       "      <th>latitude</th>\n",
       "      <th>longitude</th>\n",
       "      <th>room_type</th>\n",
       "      <th>price</th>\n",
       "      <th>minimum_nights</th>\n",
       "      <th>number_of_reviews</th>\n",
       "      <th>reviews_per_month</th>\n",
       "      <th>calculated_host_listings_count</th>\n",
       "      <th>availability_365</th>\n",
       "    </tr>\n",
       "  </thead>\n",
       "  <tbody>\n",
       "    <tr>\n",
       "      <th>0</th>\n",
       "      <td>17878</td>\n",
       "      <td>Very Nice 2Br in Copacabana w. balcony, fast WiFi</td>\n",
       "      <td>68997</td>\n",
       "      <td>Matthias</td>\n",
       "      <td>Copacabana</td>\n",
       "      <td>-22.96592</td>\n",
       "      <td>-43.17896</td>\n",
       "      <td>Entire home/apt</td>\n",
       "      <td>221</td>\n",
       "      <td>5</td>\n",
       "      <td>260</td>\n",
       "      <td>2.01</td>\n",
       "      <td>1</td>\n",
       "      <td>304</td>\n",
       "    </tr>\n",
       "    <tr>\n",
       "      <th>1</th>\n",
       "      <td>24480</td>\n",
       "      <td>Nice and cozy near Ipanema Beach</td>\n",
       "      <td>99249</td>\n",
       "      <td>Goya</td>\n",
       "      <td>Ipanema</td>\n",
       "      <td>-22.98570</td>\n",
       "      <td>-43.20193</td>\n",
       "      <td>Entire home/apt</td>\n",
       "      <td>307</td>\n",
       "      <td>3</td>\n",
       "      <td>85</td>\n",
       "      <td>0.67</td>\n",
       "      <td>1</td>\n",
       "      <td>10</td>\n",
       "    </tr>\n",
       "    <tr>\n",
       "      <th>2</th>\n",
       "      <td>25026</td>\n",
       "      <td>Beautiful Modern Decorated Studio in Copa</td>\n",
       "      <td>3746246</td>\n",
       "      <td>Ghizlane</td>\n",
       "      <td>Copacabana</td>\n",
       "      <td>-22.97712</td>\n",
       "      <td>-43.19045</td>\n",
       "      <td>Entire home/apt</td>\n",
       "      <td>160</td>\n",
       "      <td>7</td>\n",
       "      <td>238</td>\n",
       "      <td>1.82</td>\n",
       "      <td>11</td>\n",
       "      <td>328</td>\n",
       "    </tr>\n",
       "    <tr>\n",
       "      <th>3</th>\n",
       "      <td>35636</td>\n",
       "      <td>Cosy flat close to Ipanema beach</td>\n",
       "      <td>153232</td>\n",
       "      <td>Patricia</td>\n",
       "      <td>Ipanema</td>\n",
       "      <td>-22.98816</td>\n",
       "      <td>-43.19359</td>\n",
       "      <td>Entire home/apt</td>\n",
       "      <td>273</td>\n",
       "      <td>2</td>\n",
       "      <td>181</td>\n",
       "      <td>2.02</td>\n",
       "      <td>1</td>\n",
       "      <td>207</td>\n",
       "    </tr>\n",
       "    <tr>\n",
       "      <th>4</th>\n",
       "      <td>35764</td>\n",
       "      <td>COPACABANA SEA BREEZE  -  RIO - 20 X Superhost</td>\n",
       "      <td>153691</td>\n",
       "      <td>Patricia Miranda &amp; Paulo</td>\n",
       "      <td>Copacabana</td>\n",
       "      <td>-22.98127</td>\n",
       "      <td>-43.19046</td>\n",
       "      <td>Entire home/apt</td>\n",
       "      <td>135</td>\n",
       "      <td>3</td>\n",
       "      <td>353</td>\n",
       "      <td>2.79</td>\n",
       "      <td>1</td>\n",
       "      <td>101</td>\n",
       "    </tr>\n",
       "  </tbody>\n",
       "</table>\n",
       "</div>"
      ],
      "text/plain": [
       "      id  ... availability_365\n",
       "0  17878  ...              304\n",
       "1  24480  ...               10\n",
       "2  25026  ...              328\n",
       "3  35636  ...              207\n",
       "4  35764  ...              101\n",
       "\n",
       "[5 rows x 14 columns]"
      ]
     },
     "execution_count": 63,
     "metadata": {
      "tags": []
     },
     "output_type": "execute_result"
    }
   ],
   "source": [
    "df.head()"
   ]
  },
  {
   "cell_type": "code",
   "execution_count": null,
   "id": "offshore-nylon",
   "metadata": {
    "colab": {
     "base_uri": "https://localhost:8080/",
     "height": 284
    },
    "id": "0B_df_k5AR5C",
    "outputId": "f1b4f367-e020-4499-c7ff-e7451bc1ce69"
   },
   "outputs": [
    {
     "data": {
      "text/html": [
       "<div>\n",
       "<style scoped>\n",
       "    .dataframe tbody tr th:only-of-type {\n",
       "        vertical-align: middle;\n",
       "    }\n",
       "\n",
       "    .dataframe tbody tr th {\n",
       "        vertical-align: top;\n",
       "    }\n",
       "\n",
       "    .dataframe thead th {\n",
       "        text-align: right;\n",
       "    }\n",
       "</style>\n",
       "<table border=\"1\" class=\"dataframe\">\n",
       "  <thead>\n",
       "    <tr style=\"text-align: right;\">\n",
       "      <th></th>\n",
       "      <th>id</th>\n",
       "      <th>host_id</th>\n",
       "      <th>latitude</th>\n",
       "      <th>longitude</th>\n",
       "      <th>price</th>\n",
       "      <th>minimum_nights</th>\n",
       "      <th>number_of_reviews</th>\n",
       "      <th>reviews_per_month</th>\n",
       "      <th>calculated_host_listings_count</th>\n",
       "      <th>availability_365</th>\n",
       "    </tr>\n",
       "  </thead>\n",
       "  <tbody>\n",
       "    <tr>\n",
       "      <th>count</th>\n",
       "      <td>2.661500e+04</td>\n",
       "      <td>2.661500e+04</td>\n",
       "      <td>26615.000000</td>\n",
       "      <td>26615.000000</td>\n",
       "      <td>26615.000000</td>\n",
       "      <td>26615.000000</td>\n",
       "      <td>26615.000000</td>\n",
       "      <td>26615.000000</td>\n",
       "      <td>26615.000000</td>\n",
       "      <td>26615.000000</td>\n",
       "    </tr>\n",
       "    <tr>\n",
       "      <th>mean</th>\n",
       "      <td>2.526448e+07</td>\n",
       "      <td>1.006657e+08</td>\n",
       "      <td>-22.965837</td>\n",
       "      <td>-43.248533</td>\n",
       "      <td>742.589254</td>\n",
       "      <td>4.725268</td>\n",
       "      <td>12.146308</td>\n",
       "      <td>0.393779</td>\n",
       "      <td>9.665414</td>\n",
       "      <td>219.438174</td>\n",
       "    </tr>\n",
       "    <tr>\n",
       "      <th>std</th>\n",
       "      <td>1.573416e+07</td>\n",
       "      <td>1.090670e+08</td>\n",
       "      <td>0.034971</td>\n",
       "      <td>0.096296</td>\n",
       "      <td>5368.868834</td>\n",
       "      <td>19.102522</td>\n",
       "      <td>29.722813</td>\n",
       "      <td>0.756984</td>\n",
       "      <td>35.942124</td>\n",
       "      <td>141.525405</td>\n",
       "    </tr>\n",
       "    <tr>\n",
       "      <th>min</th>\n",
       "      <td>1.787800e+04</td>\n",
       "      <td>3.607000e+03</td>\n",
       "      <td>-23.072920</td>\n",
       "      <td>-43.704790</td>\n",
       "      <td>0.000000</td>\n",
       "      <td>1.000000</td>\n",
       "      <td>0.000000</td>\n",
       "      <td>0.000000</td>\n",
       "      <td>1.000000</td>\n",
       "      <td>0.000000</td>\n",
       "    </tr>\n",
       "    <tr>\n",
       "      <th>25%</th>\n",
       "      <td>1.220219e+07</td>\n",
       "      <td>1.431500e+07</td>\n",
       "      <td>-22.984570</td>\n",
       "      <td>-43.304090</td>\n",
       "      <td>157.000000</td>\n",
       "      <td>1.000000</td>\n",
       "      <td>0.000000</td>\n",
       "      <td>0.000000</td>\n",
       "      <td>1.000000</td>\n",
       "      <td>88.000000</td>\n",
       "    </tr>\n",
       "    <tr>\n",
       "      <th>50%</th>\n",
       "      <td>2.374090e+07</td>\n",
       "      <td>6.026326e+07</td>\n",
       "      <td>-22.971700</td>\n",
       "      <td>-43.196210</td>\n",
       "      <td>280.000000</td>\n",
       "      <td>2.000000</td>\n",
       "      <td>2.000000</td>\n",
       "      <td>0.080000</td>\n",
       "      <td>1.000000</td>\n",
       "      <td>254.000000</td>\n",
       "    </tr>\n",
       "    <tr>\n",
       "      <th>75%</th>\n",
       "      <td>4.089613e+07</td>\n",
       "      <td>1.546962e+08</td>\n",
       "      <td>-22.951575</td>\n",
       "      <td>-43.186300</td>\n",
       "      <td>550.000000</td>\n",
       "      <td>4.000000</td>\n",
       "      <td>9.000000</td>\n",
       "      <td>0.440000</td>\n",
       "      <td>3.000000</td>\n",
       "      <td>363.000000</td>\n",
       "    </tr>\n",
       "    <tr>\n",
       "      <th>max</th>\n",
       "      <td>4.827600e+07</td>\n",
       "      <td>3.892463e+08</td>\n",
       "      <td>-22.749820</td>\n",
       "      <td>-43.104860</td>\n",
       "      <td>625216.000000</td>\n",
       "      <td>1000.000000</td>\n",
       "      <td>446.000000</td>\n",
       "      <td>29.530000</td>\n",
       "      <td>295.000000</td>\n",
       "      <td>365.000000</td>\n",
       "    </tr>\n",
       "  </tbody>\n",
       "</table>\n",
       "</div>"
      ],
      "text/plain": [
       "                 id  ...  availability_365\n",
       "count  2.661500e+04  ...      26615.000000\n",
       "mean   2.526448e+07  ...        219.438174\n",
       "std    1.573416e+07  ...        141.525405\n",
       "min    1.787800e+04  ...          0.000000\n",
       "25%    1.220219e+07  ...         88.000000\n",
       "50%    2.374090e+07  ...        254.000000\n",
       "75%    4.089613e+07  ...        363.000000\n",
       "max    4.827600e+07  ...        365.000000\n",
       "\n",
       "[8 rows x 10 columns]"
      ]
     },
     "execution_count": 70,
     "metadata": {
      "tags": []
     },
     "output_type": "execute_result"
    }
   ],
   "source": [
    "df.describe()"
   ]
  },
  {
   "cell_type": "markdown",
   "id": "realistic-hormone",
   "metadata": {
    "id": "SaNlsLsGE9DU"
   },
   "source": [
    "## Distribuição"
   ]
  },
  {
   "cell_type": "code",
   "execution_count": null,
   "id": "opposed-coffee",
   "metadata": {
    "colab": {
     "base_uri": "https://localhost:8080/",
     "height": 607
    },
    "id": "DSlEX_SqEwg_",
    "outputId": "672b097a-abf2-48f8-a5b4-0ad4c47145b0"
   },
   "outputs": [
    {
     "data": {
      "image/png": "[encoded data removed]",
      "text/plain": [
       "<Figure size 1152x720 with 12 Axes>"
      ]
     },
     "metadata": {
      "needs_background": "light",
      "tags": []
     },
     "output_type": "display_data"
    }
   ],
   "source": [
    "df.hist(bins = 15, figsize=(16,10));"
   ]
  },
  {
   "cell_type": "code",
   "execution_count": null,
   "id": "latin-chaos",
   "metadata": {
    "colab": {
     "base_uri": "https://localhost:8080/",
     "height": 147
    },
    "id": "COb5AbXBFDLC",
    "outputId": "2b424ce3-e41d-445c-b5f6-ec47752e165d",
    "scrolled": true
   },
   "outputs": [
    {
     "data": {
      "text/html": [
       "<div>\n",
       "<style scoped>\n",
       "    .dataframe tbody tr th:only-of-type {\n",
       "        vertical-align: middle;\n",
       "    }\n",
       "\n",
       "    .dataframe tbody tr th {\n",
       "        vertical-align: top;\n",
       "    }\n",
       "\n",
       "    .dataframe thead th {\n",
       "        text-align: right;\n",
       "    }\n",
       "</style>\n",
       "<table border=\"1\" class=\"dataframe\">\n",
       "  <thead>\n",
       "    <tr style=\"text-align: right;\">\n",
       "      <th></th>\n",
       "      <th>id</th>\n",
       "      <th>name</th>\n",
       "      <th>host_id</th>\n",
       "      <th>host_name</th>\n",
       "      <th>neighbourhood</th>\n",
       "      <th>latitude</th>\n",
       "      <th>longitude</th>\n",
       "      <th>room_type</th>\n",
       "      <th>price</th>\n",
       "      <th>minimum_nights</th>\n",
       "      <th>number_of_reviews</th>\n",
       "      <th>reviews_per_month</th>\n",
       "      <th>calculated_host_listings_count</th>\n",
       "      <th>availability_365</th>\n",
       "    </tr>\n",
       "  </thead>\n",
       "  <tbody>\n",
       "    <tr>\n",
       "      <th>8311</th>\n",
       "      <td>13879989</td>\n",
       "      <td>Temporary rentals for Brazilian Cup.</td>\n",
       "      <td>82046629</td>\n",
       "      <td>Elizabeth</td>\n",
       "      <td>São Cristóvão</td>\n",
       "      <td>-22.90156</td>\n",
       "      <td>-43.22977</td>\n",
       "      <td>Shared room</td>\n",
       "      <td>625216</td>\n",
       "      <td>6</td>\n",
       "      <td>0</td>\n",
       "      <td>0.0</td>\n",
       "      <td>1</td>\n",
       "      <td>365</td>\n",
       "    </tr>\n",
       "  </tbody>\n",
       "</table>\n",
       "</div>"
      ],
      "text/plain": [
       "            id  ... availability_365\n",
       "8311  13879989  ...              365\n",
       "\n",
       "[1 rows x 14 columns]"
      ]
     },
     "execution_count": 81,
     "metadata": {
      "tags": []
     },
     "output_type": "execute_result"
    }
   ],
   "source": [
    "# Verificando os imóveis com número de noites maior do que 10.\n",
    "df[df['price'] > 150000]"
   ]
  },
  {
   "cell_type": "code",
   "execution_count": null,
   "id": "ongoing-ranking",
   "metadata": {},
   "outputs": [],
   "source": []
  }
 ],
 "metadata": {
  "kernelspec": {
   "display_name": "Python 3",
   "language": "python",
   "name": "python3"
  },
  "language_info": {
   "codemirror_mode": {
    "name": "ipython",
    "version": 3
   },
   "file_extension": ".py",
   "mimetype": "text/x-python",
   "name": "python",
   "nbconvert_exporter": "python",
   "pygments_lexer": "ipython3",
   "version": "3.8.8"
  }
 },
 "nbformat": 4,
 "nbformat_minor": 5
}
